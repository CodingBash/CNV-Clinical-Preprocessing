{
 "cells": [
  {
   "cell_type": "code",
   "execution_count": 19,
   "metadata": {},
   "outputs": [],
   "source": [
    "setwd(\"~/Documents/Git-Projects/Git-Research-Projects/drug-response-prediction\")\n",
    "source(\"helperFunctions.R\")\n",
    "library(repr)"
   ]
  },
  {
   "cell_type": "code",
   "execution_count": 20,
   "metadata": {},
   "outputs": [],
   "source": [
    "all_model_specs <- data.frame(stringsAsFactors = FALSE)\n",
    "cnprep_run_1 <- data.frame(dir=\"prev_run1\", model=\"E\", minjoin=0.25, ntrial = 10, stringsAsFactors = FALSE)\n",
    "cnprep_run_2 <- data.frame(dir=\"prev_run3\", model=\"V\", minjoin=0.25, ntrial = 10, stringsAsFactors = FALSE)\n",
    "cnprep_run_3 <- data.frame(dir=\"prev_run_7_19_2018_1\", model=\"E\", minjoin=0.50, ntrial = 40, stringsAsFactors = FALSE)\n",
    "cnprep_run_4 <- data.frame(dir=\"prev_run_7_19_2018_2\", model=\"E\", minjoin=1.00, ntrial = 40, stringsAsFactors = FALSE)\n",
    "cnprep_run_5 <- data.frame(dir=\"prev_run_7_19_2018_3\", model=\"V\", minjoin=1.00, ntrial = 10, stringsAsFactors = FALSE)\n",
    "all_model_specs <- rbind(cnprep_run_1, cnprep_run_2, cnprep_run_3, cnprep_run_4, cnprep_run_5)"
   ]
  },
  {
   "cell_type": "code",
   "execution_count": 21,
   "metadata": {},
   "outputs": [],
   "source": [
    "displayCNResults <- function(organoidId, bin_start, bin_end, model_specs, values, cols, hl){\n",
    "  par(mfrow=c(nrow(model_specs),1)) \n",
    "  par(mar=c(2,2,0,1))\n",
    "  \n",
    "  #\n",
    "  # Calculate plot range\n",
    "  #\n",
    "  all_segtables <- lapply(seq(1, nrow(model_specs)), function(model_specs.index){\n",
    "    return(retrieveSegtable(organoidId, dir = paste0(\"segClusteringResults/\", model_specs[model_specs.index, ]$dir, \"/\")))\n",
    "  })\n",
    "  \n",
    "  binded_segtables <- do.call(rbind, all_segtables)\n",
    "  \n",
    "  ymargin <- 0.1\n",
    "  yvalues <- sapply(values, function(value){binded_segtables[[value]]})\n",
    "  xrange <- range(binded_segtables$start,binded_segtables$end)\n",
    "  yrange <- range(yvalues - ymargin, yvalues + ymargin)\n",
    "    \n",
    "  for(model_specs.index in seq(1, nrow(model_specs))){\n",
    "    segtable <- retrieveSegtable(organoidId, dir = paste0(\"segClusteringResults/\", model_specs[model_specs.index, ]$dir, \"/\"))\n",
    "    plot(xrange, yrange, type=\"n\", xlab = \"\", ylab = \"\")\n",
    "    for(value.i in seq_along(values)){\n",
    "      segments(x0 = segtable$start, x1 = segtable$end, y0 = segtable[[values[[value.i]]]], y1 = segtable[[values[[value.i]]]],\n",
    "               col = cols[[value.i]], lty = par(\"lty\"), lwd = par(\"lwd\"))\n",
    "    }\n",
    "    if(hl == TRUE){\n",
    "      abline(h=0)\n",
    "      abline(h=0.5, col = \"#4F4F4F\")\n",
    "      abline(h=-0.5, col = \"#4F4F4F\")\n",
    "      abline(h=1, col = \"#BABABA\")\n",
    "      abline(h=-1, col = \"#BABABA\")\n",
    "    }\n",
    "  }\n",
    "}\n"
   ]
  },
  {
   "cell_type": "code",
   "execution_count": 25,
   "metadata": {},
   "outputs": [
    {
     "data": {
      "image/png": "[encoded data removed]",
      "text/plain": [
       "plot without title"
      ]
     },
     "metadata": {},
     "output_type": "display_data",
     "source": "R display func"
    }
   ],
   "source": [
    "options(repr.plot.width=15, repr.plot.height=7)\n",
    "displayCNResults(organoidId= \"hT30\", model_specs = rbind(cnprep_run_4,cnprep_run_2 ), values = c(\"maxzmean\", \"mediandev\"), cols = c(\"blue\", \"red\"), hl = TRUE)"
   ]
  },
  {
   "cell_type": "code",
   "execution_count": null,
   "metadata": {},
   "outputs": [],
   "source": []
  }
 ],
 "metadata": {
  "kernelspec": {
   "display_name": "R",
   "language": "R",
   "name": "ir"
  },
  "language_info": {
   "codemirror_mode": "r",
   "file_extension": ".r",
   "mimetype": "text/x-r-source",
   "name": "R",
   "pygments_lexer": "r",
   "version": "3.4.3"
  }
 },
 "nbformat": 4,
 "nbformat_minor": 2
}
