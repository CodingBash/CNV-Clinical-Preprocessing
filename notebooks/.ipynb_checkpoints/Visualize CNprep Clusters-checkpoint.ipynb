{
 "cells": [
  {
   "cell_type": "markdown",
   "metadata": {},
   "source": [
    "# Visualize CNPrep clusters"
   ]
  },
  {
   "cell_type": "markdown",
   "metadata": {},
   "source": [
    "### Load sources"
   ]
  },
  {
   "cell_type": "code",
   "execution_count": null,
   "metadata": {},
   "outputs": [],
   "source": [
    "setwd(\"~/Documents/Git-Projects/Git-Research-Projects/drug-response-prediction\")\n",
    "source(\"cnProfileVisualizationLibrary.R\")\n",
    "source(\"helperFunctions.R\")\n"
   ]
  },
  {
   "cell_type": "markdown",
   "metadata": {},
   "source": [
    "### Set the directory with the CNprep results \n",
    "\n",
    "Current set to see CNprep results with default parameters (mclust=E, minjoin=0.25, etc.)"
   ]
  },
  {
   "cell_type": "code",
   "execution_count": 8,
   "metadata": {},
   "outputs": [],
   "source": [
    "segDir <- \"segClusteringResults/prev_run1/\""
   ]
  },
  {
   "cell_type": "markdown",
   "metadata": {},
   "source": [
    "### Set the sample to view CN cluster profile"
   ]
  },
  {
   "cell_type": "code",
   "execution_count": 9,
   "metadata": {},
   "outputs": [],
   "source": [
    "# Set the sample that you want to view the CN profile for here.\n",
    "loaded_samples <- c(\"hT1\", \"hT25\",\"hT70\", \"hT72\")"
   ]
  },
  {
   "cell_type": "markdown",
   "metadata": {},
   "source": [
    "### View CN cluster profile"
   ]
  },
  {
   "cell_type": "code",
   "execution_count": null,
   "metadata": {},
   "outputs": [],
   "source": [
    "#\n",
    "# Iterate through each sample and generate CN profile\n",
    "#\n",
    "for(sample in loaded_samples){\n",
    "    setwd(\"~/Documents/Git-Projects/Git-Research-Projects/drug-response-prediction\")\n",
    "    facets_segment_clusters <- retrieveFacetsSegmentClusters(sample, dir = segDir)\n",
    "    facets_segment_clusters <- segmentClustersToBedFormat(facets_segment_clusters)\n",
    "      \n",
    "    #\n",
    "    # Generate CN profile from input data\n",
    "    #\n",
    "    visualizeCNProfile(facets_segment_data = facets_segment_clusters, facets_snp_data = facets_snp_data, save = FALSE)\n",
    "}\n"
   ]
  },
  {
   "cell_type": "markdown",
   "metadata": {},
   "source": [
    "### Produce Batch"
   ]
  },
  {
   "cell_type": "code",
   "execution_count": null,
   "metadata": {},
   "outputs": [],
   "source": [
    "# Load samples to generate CN profiles for\n",
    "loaded_samples <- load_samples(classes = c(\"T\"), sampleList = \"sampleList.csv\")"
   ]
  },
  {
   "cell_type": "code",
   "execution_count": null,
   "metadata": {},
   "outputs": [],
   "source": [
    "#\n",
    "# Iterate through each sample and generate CN profile\n",
    "#\n",
    "for(sample in loaded_samples){\n",
    "    #\n",
    "    # Retrieve and format input data\n",
    "    #\n",
    "    setwd(\"~/Documents/Git-Projects/Git-Research-Projects/drug-response-prediction\")\n",
    "    facets_segment_clusters <- retrieveFacetsSegmentClusters(sample, dir = segDir)\n",
    "    facets_segment_clusters <- segmentClustersToBedFormat(facets_segment_clusters)\n",
    "      \n",
    "    #\n",
    "    # Generate CN profile from input data\n",
    "    #\n",
    "    cd_local()\n",
    "    visualizeCNProfile(facets_segment_data = facets_segment_clusters, facets_snp_data = facets_snp_data, save = FALSE)\n",
    "}\n"
   ]
  }
 ],
 "metadata": {
  "kernelspec": {
   "display_name": "R",
   "language": "R",
   "name": "ir"
  },
  "language_info": {
   "codemirror_mode": "r",
   "file_extension": ".r",
   "mimetype": "text/x-r-source",
   "name": "R",
   "pygments_lexer": "r",
   "version": "3.4.3"
  }
 },
 "nbformat": 4,
 "nbformat_minor": 2
}
