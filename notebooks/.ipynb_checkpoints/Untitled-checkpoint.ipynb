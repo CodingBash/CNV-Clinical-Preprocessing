{
 "cells": [
  {
   "cell_type": "markdown",
   "metadata": {},
   "source": [
    "# Visualize slicing events and CN profiles"
   ]
  },
  {
   "cell_type": "code",
   "execution_count": 1,
   "metadata": {},
   "outputs": [
    {
     "name": "stderr",
     "output_type": "stream",
     "text": [
      "Loading required package: grid\n",
      "Loading required package: IRanges\n",
      "Loading required package: BiocGenerics\n",
      "Loading required package: parallel\n",
      "\n",
      "Attaching package: 'BiocGenerics'\n",
      "\n",
      "The following objects are masked from 'package:parallel':\n",
      "\n",
      "    clusterApply, clusterApplyLB, clusterCall, clusterEvalQ,\n",
      "    clusterExport, clusterMap, parApply, parCapply, parLapply,\n",
      "    parLapplyLB, parRapply, parSapply, parSapplyLB\n",
      "\n",
      "The following objects are masked from 'package:stats':\n",
      "\n",
      "    IQR, mad, sd, var, xtabs\n",
      "\n",
      "The following objects are masked from 'package:base':\n",
      "\n",
      "    anyDuplicated, append, as.data.frame, cbind, colMeans, colnames,\n",
      "    colSums, do.call, duplicated, eval, evalq, Filter, Find, get, grep,\n",
      "    grepl, intersect, is.unsorted, lapply, lengths, Map, mapply, match,\n",
      "    mget, order, paste, pmax, pmax.int, pmin, pmin.int, Position, rank,\n",
      "    rbind, Reduce, rowMeans, rownames, rowSums, sapply, setdiff, sort,\n",
      "    table, tapply, union, unique, unsplit, which, which.max, which.min\n",
      "\n",
      "Loading required package: S4Vectors\n",
      "Loading required package: stats4\n",
      "\n",
      "Attaching package: 'S4Vectors'\n",
      "\n",
      "The following object is masked from 'package:base':\n",
      "\n",
      "    expand.grid\n",
      "\n",
      "Loading required package: GenomicRanges\n",
      "Warning message:\n",
      "\"package 'GenomicRanges' was built under R version 3.4.4\"Loading required package: GenomeInfoDb\n",
      "========================================\n",
      "gtrellis version 1.11.1\n",
      "Bioconductor page: http://bioconductor.org/packages/gtrellis/\n",
      "Github page: https://github.com/jokergoo/gtrellis\n",
      "Documentation: http://bioconductor.org/packages/gtrellis/\n",
      "\n",
      "If you use it in published research, please cite:\n",
      "Gu, Z. gtrellis: an R/Bioconductor package for making genome-level \n",
      "  Trellis graphics. BMC Bioinformatics 2016.\n",
      "========================================\n",
      "\n",
      "Warning message:\n",
      "\"package 'circlize' was built under R version 3.4.4\"========================================\n",
      "circlize version 0.4.4\n",
      "CRAN page: https://cran.r-project.org/package=circlize\n",
      "Github page: https://github.com/jokergoo/circlize\n",
      "Documentation: http://jokergoo.github.io/circlize_book/book/\n",
      "\n",
      "If you use it in published research, please cite:\n",
      "Gu, Z. circlize implements and enhances circular visualization \n",
      "  in R. Bioinformatics 2014.\n",
      "========================================\n",
      "\n",
      "========================================\n",
      "ComplexHeatmap version 1.17.1\n",
      "Bioconductor page: http://bioconductor.org/packages/ComplexHeatmap/\n",
      "Github page: https://github.com/jokergoo/ComplexHeatmap\n",
      "Documentation: http://bioconductor.org/packages/ComplexHeatmap/\n",
      "\n",
      "If you use it in published research, please cite:\n",
      "Gu, Z. Complex heatmaps reveal patterns and correlations in multidimensional \n",
      "  genomic data. Bioinformatics 2016.\n",
      "========================================\n",
      "\n"
     ]
    }
   ],
   "source": [
    "setwd(\"~/Documents/Git-Projects/Git-Research-Projects/drug-response-prediction\")\n",
    "source(\"helperFunctions.R\")\n",
    "source(\"cnProfileVisualizationLibrary.R\")\n",
    "source(\"facetsAnalysisLibrary.R\")"
   ]
  },
  {
   "cell_type": "code",
   "execution_count": 5,
   "metadata": {},
   "outputs": [
    {
     "ename": "ERROR",
     "evalue": "Error in retrieveCores(\"./output/coresResults/prev_run_8_2_2018_2/selectedCores/AselectedCoresBP.bed\"): could not find function \"retrieveCores\"\n",
     "execution_count": 5,
     "output_type": "error",
     "traceback": [
      "Error in retrieveCores(\"./output/coresResults/prev_run_8_2_2018_2/selectedCores/AselectedCoresBP.bed\"): could not find function \"retrieveCores\"\nTraceback:\n"
     ]
    }
   ],
   "source": [
    "setwd(\"~/Documents/Git-Projects/Git-Research-Projects/FACETS_write_files\")\n",
    "\n",
    "reference = \"hN30\"\n",
    "dir = \"output/FACETS_Reference_hN30_8_2_18_1/\"\n",
    "\n",
    "raw_segments <- retrieveFacetsSegments(\"hT30\", sample_subdir = \"/\", reference = reference, dir = dir)\n",
    "bed <- segmentsToBedFormat(raw_segments)\n",
    "\n",
    "setwd(\"~/Documents/Git-Projects/Git-Research-Projects/CNprep-Slicing-CORE-Analysis/\")\n",
    "Acores <- retrieveCores(\"./output/coresResults/prev_run_8_2_2018_2/selectedCores/AselectedCoresBP.bed\") # BED file of amplification recurrent regions\n",
    "Dcores <- retrieveCores(\"./output/coresResults/prev_run_8_2_2018_2/selectedCores/DselectedCoresBP.bed\") # BED file of deletion recurrent regions\n",
    "ADcores <- retrieveCores(\"./output/coresResults/prev_run_8_2_2018_2/selectedCores/ADselectedCoresBP.bed\") # BED file of both recurrent regions\n",
    "\n",
    "visualizeCNProfile(title = paste0(\"Profile for tumorId = \", tumorId), facets_segment_data = bed, Acores = Acores, Dcores = Dcores, save = FALSE)\n",
    "\n"
   ]
  },
  {
   "cell_type": "code",
   "execution_count": null,
   "metadata": {},
   "outputs": [],
   "source": []
  }
 ],
 "metadata": {
  "kernelspec": {
   "display_name": "R",
   "language": "R",
   "name": "ir"
  },
  "language_info": {
   "codemirror_mode": "r",
   "file_extension": ".r",
   "mimetype": "text/x-r-source",
   "name": "R",
   "pygments_lexer": "r",
   "version": "3.4.3"
  }
 },
 "nbformat": 4,
 "nbformat_minor": 2
}
