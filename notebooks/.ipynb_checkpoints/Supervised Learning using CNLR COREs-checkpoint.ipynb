{
 "cells": [
  {
   "cell_type": "markdown",
   "metadata": {},
   "source": [
    "# Supervised Learning of Drug Response using CORES from Copy Number Log Ratio"
   ]
  },
  {
   "cell_type": "markdown",
   "metadata": {},
   "source": [
    "### Import Python source code"
   ]
  },
  {
   "cell_type": "code",
   "execution_count": 1,
   "metadata": {},
   "outputs": [],
   "source": [
    "# -*- coding: utf-8 -*-\n",
    "\"\"\"\n",
    "Created on Thu Jul 26 12:21:38 2018\n",
    "\n",
    "@author: bbece\n",
    "\"\"\"\n",
    "\n",
    "from __future__ import division, print_function, unicode_literals\n",
    "import numpy as np\n",
    "import os\n",
    "from IPython.display import display, HTML\n",
    "\n",
    "from pprint import pprint\n",
    "np.random.seed(42)\n",
    "\n",
    "import matplotlib\n",
    "import matplotlib.pyplot as plt\n",
    "plt.rcParams['axes.labelsize'] = 14\n",
    "plt.rcParams['xtick.labelsize'] = 12\n",
    "plt.rcParams['ytick.labelsize'] = 12\n",
    "            \n",
    "import pandas as pd\n",
    "import scipy\n",
    "\n",
    "from sklearn.linear_model import Lasso\n",
    "from sklearn.linear_model import LinearRegression\n",
    "from sklearn.ensemble import RandomForestRegressor\n",
    "from sklearn.metrics import mean_squared_error\n",
    "import math\n",
    "\n"
   ]
  },
  {
   "cell_type": "markdown",
   "metadata": {},
   "source": [
    "### Define method to split training and testing set"
   ]
  },
  {
   "cell_type": "code",
   "execution_count": 2,
   "metadata": {},
   "outputs": [],
   "source": [
    "# TODO: Manipulate test_ratio\n",
    "def split_train_test(training_set, test_ratio = 0.33):\n",
    "    row_count = training_set.shape[0]\n",
    "    shuffled_indices = np.random.permutation(row_count)\n",
    "    test_set_size = int(test_ratio * row_count)\n",
    "    test_indices = shuffled_indices[:test_set_size]\n",
    "    train_indices = shuffled_indices[test_set_size:]\n",
    "    return training_set.iloc[train_indices], training_set.iloc[test_indices]"
   ]
  },
  {
   "cell_type": "markdown",
   "metadata": {},
   "source": [
    "### Load training set matrix"
   ]
  },
  {
   "cell_type": "code",
   "execution_count": 8,
   "metadata": {},
   "outputs": [],
   "source": [
    "labeled_matrix_training_set = pd.read_csv(\"../mlOutput/coreTrainingSet_7_31_2018_1.csv\")\n",
    "labeled_matrix_training_set.columns.values[0] = \"sampleId\"\n",
    "labels = list(range(0,5))\n"
   ]
  },
  {
   "cell_type": "code",
   "execution_count": 4,
   "metadata": {},
   "outputs": [
    {
     "name": "stdout",
     "output_type": "stream",
     "text": [
      "  sampleId  Gemcitabine  Paclitaxel     SN-38      5-FU  Oxaliplatin  \\\n",
      "0    hM17D     0.637520    0.652945  0.679371  0.822522     0.927028   \n",
      "1    hM19A     0.744417    0.667870  0.563638  0.839585     0.874489   \n",
      "2    hM19B     0.736595    0.697379  0.606223  0.909020     0.939280   \n",
      "3    hM19C     0.672706    0.631027  0.590799  0.641945     0.924407   \n",
      "4    hM19D     0.585682    0.614227  0.579178  0.583491          NaN   \n",
      "\n",
      "          1         4         6         8    ...           43        44  \\\n",
      "0 -0.191476 -0.111982 -0.031535  0.194702    ...    -0.180308 -0.388883   \n",
      "1  0.117598  0.049725  0.292631 -0.521739    ...     0.126315 -0.115778   \n",
      "2 -0.516071 -0.485236  0.178861 -0.645285    ...     0.096073 -0.113105   \n",
      "3 -0.494288 -0.585292  0.200625 -0.543859    ...    -0.012848 -0.207628   \n",
      "4 -0.548347 -0.512629  0.188757 -0.508282    ...     0.105863 -0.005723   \n",
      "\n",
      "         45        46        47        48        49        50        52  \\\n",
      "0 -0.254426 -0.132726 -0.228261  0.044768  0.090468  0.614185  0.673407   \n",
      "1 -0.407217  0.393595  0.052298  0.333852  0.468704 -0.387182  0.542903   \n",
      "2 -0.542922  0.354936 -0.478933  0.325882  0.367046 -0.324453  0.568131   \n",
      "3  0.007515  0.405350 -0.026541  0.686015  0.892808 -1.248245  0.162810   \n",
      "4 -0.486995  0.389744 -0.490257  0.341218  0.439575 -0.359887  0.544827   \n",
      "\n",
      "         53  \n",
      "0 -0.860605  \n",
      "1 -0.110980  \n",
      "2 -0.058653  \n",
      "3 -0.071772  \n",
      "4 -0.097471  \n",
      "\n",
      "[5 rows x 31 columns]\n"
     ]
    }
   ],
   "source": [
    "pprint(labeled_matrix_training_set.copy().head())"
   ]
  },
  {
   "cell_type": "code",
   "execution_count": 18,
   "metadata": {},
   "outputs": [],
   "source": [
    "from sklearn.pipeline import Pipeline\n",
    "from sklearn.preprocessing import StandardScaler\n",
    "from sklearn.preprocessing import Imputer\n",
    "\n",
    "preprocessing_pipeline = Pipeline([\n",
    "    ('imputer', Imputer(strategy=\"median\")) # TODO: Temporary fix for scaling\n",
    "    ,('std_scaler', StandardScaler())\n",
    "])\n",
    "\n",
    "processed_training_set = preprocessing_pipeline.fit_transform(labeled_matrix_training_set.copy().drop([\"sampleId\"], axis=1))\n"
   ]
  },
  {
   "cell_type": "code",
   "execution_count": 19,
   "metadata": {},
   "outputs": [
    {
     "name": "stdout",
     "output_type": "stream",
     "text": [
      "[[-0.23330645  0.49943843  1.55282057 ...,  1.67485858  1.5745206  -0.827832  ]\n",
      " [ 1.62726726  0.7561883  -0.68340642 ..., -0.36018446  1.14115059\n",
      "   1.02234566]\n",
      " [ 1.49112882  1.26379274  0.13942341 ..., -0.23270269  1.22492635\n",
      "   1.15149628]\n",
      " ..., \n",
      " [-0.09129981 -0.1330282  -0.24584731 ...,  0.70908473 -0.23126266\n",
      "   0.83869058]\n",
      " [-0.09129981 -0.1330282  -0.24584731 ..., -0.24434973  1.1203276\n",
      "  -0.24567415]\n",
      " [-1.03470437 -1.12981741 -1.33191931 ..., -1.15449277 -0.33156476\n",
      "  -1.343845  ]]\n"
     ]
    }
   ],
   "source": [
    "print(final_training_set)"
   ]
  },
  {
   "cell_type": "code",
   "execution_count": 21,
   "metadata": {},
   "outputs": [
    {
     "name": "stdout",
     "output_type": "stream",
     "text": [
      "   Gemcitabine  Paclitaxel     SN-38      5-FU  Oxaliplatin         1  \\\n",
      "0    -0.233306    0.499438  1.552821  0.300075     1.348759 -0.065255   \n",
      "1     1.627267    0.756188 -0.683406  0.507795     0.412063  1.173183   \n",
      "2     1.491129    1.263793  0.139423  1.353072     1.567209 -1.365884   \n",
      "3     0.379110    0.122420 -0.158585 -1.898187     1.302047 -1.278601   \n",
      "4    -1.135565   -0.166577 -0.383144 -2.609772     0.135110 -1.495213   \n",
      "\n",
      "          4         6         8         9    ...           43        44  \\\n",
      "0  0.405571 -0.439825  0.520059  0.656853    ...    -1.018458 -0.183203   \n",
      "1  1.086715  0.646296 -1.200589 -1.245120    ...     0.877814  0.523227   \n",
      "2 -1.166652  0.265109 -1.497303 -1.386605    ...     0.690787  0.530142   \n",
      "3 -1.588107  0.338029 -1.253714 -1.326183    ...     0.017176  0.285641   \n",
      "4 -1.282036  0.298265 -1.168269 -1.335386    ...     0.751333  0.807904   \n",
      "\n",
      "         45        46        47        48        49        50        52  \\\n",
      "0 -0.293263 -0.465442  0.102553 -1.400379 -1.635858  1.674859  1.574521   \n",
      "1 -0.751643  1.311602  0.964945 -0.150421 -0.066651 -0.360184  1.141151   \n",
      "2 -1.158763  1.181075 -0.667969 -0.184883 -0.488404 -0.232703  1.224926   \n",
      "3  0.492569  1.351292  0.722606  1.372278  1.692852 -2.110092 -0.121035   \n",
      "4 -0.990980  1.298602 -0.702778 -0.118575 -0.187499 -0.304713  1.147540   \n",
      "\n",
      "         53  \n",
      "0 -0.827832  \n",
      "1  1.022346  \n",
      "2  1.151496  \n",
      "3  1.119117  \n",
      "4  1.055688  \n",
      "\n",
      "[5 rows x 30 columns]\n"
     ]
    }
   ],
   "source": [
    "final_training_set = pd.DataFrame(data=final_training_set, columns = labeled_matrix_training_set.columns[1:])\n",
    "print(final_training_set.copy().head())"
   ]
  },
  {
   "cell_type": "markdown",
   "metadata": {},
   "source": [
    "### Visualize ML results using Linear Regression"
   ]
  },
  {
   "cell_type": "code",
   "execution_count": 23,
   "metadata": {},
   "outputs": [
    {
     "name": "stdout",
     "output_type": "stream",
     "text": [
      "0.823604024705\n",
      "Pearson: (0.86060794112465677, 4.5848390782449596e-06)\n",
      "Spearman: SpearmanrResult(correlation=0.86996904024767796, pvalue=2.7112999008437103e-06)\n"
     ]
    },
    {
     "data": {
      "image/png": "[encoded data removed]",
      "text/plain": [
       "<Figure size 432x288 with 1 Axes>"
      ]
     },
     "metadata": {},
     "output_type": "display_data"
    },
    {
     "name": "stdout",
     "output_type": "stream",
     "text": [
      "0.781744515345\n",
      "Pearson: (0.59685885938121885, 0.0089226135156607149)\n",
      "Spearman: SpearmanrResult(correlation=0.55830753353973173, pvalue=0.016038200397720793)\n"
     ]
    },
    {
     "data": {
      "image/png": "[encoded data removed]",
      "text/plain": [
       "<Figure size 432x288 with 1 Axes>"
      ]
     },
     "metadata": {},
     "output_type": "display_data"
    },
    {
     "name": "stdout",
     "output_type": "stream",
     "text": [
      "0.909533443666\n",
      "Pearson: (0.83575553133150893, 1.5687450600911568e-05)\n",
      "Spearman: SpearmanrResult(correlation=0.58307533539731682, pvalue=0.011092443619541665)\n"
     ]
    },
    {
     "data": {
      "image/png": "[encoded data removed]",
      "text/plain": [
       "<Figure size 432x288 with 1 Axes>"
      ]
     },
     "metadata": {},
     "output_type": "display_data"
    },
    {
     "name": "stdout",
     "output_type": "stream",
     "text": [
      "0.544618502784\n",
      "Pearson: (0.86097881185451064, 4.4936480738279076e-06)\n",
      "Spearman: SpearmanrResult(correlation=0.84932920536635714, pvalue=8.2310597131705261e-06)\n"
     ]
    },
    {
     "data": {
      "image/png": "[encoded data removed]",
      "text/plain": [
       "<Figure size 432x288 with 1 Axes>"
      ]
     },
     "metadata": {},
     "output_type": "display_data"
    },
    {
     "name": "stdout",
     "output_type": "stream",
     "text": [
      "0.82588998264\n",
      "Pearson: (0.44628662534277053, 0.06338500365809259)\n",
      "Spearman: SpearmanrResult(correlation=0.46749226006191952, pvalue=0.050437519451044383)\n"
     ]
    },
    {
     "data": {
      "image/png": "[encoded data removed]",
      "text/plain": [
       "<Figure size 432x288 with 1 Axes>"
      ]
     },
     "metadata": {},
     "output_type": "display_data"
    }
   ],
   "source": [
    "for label in labels:\n",
    "    # Remove uneeded labels\n",
    "    selected_training_set = final_training_set.iloc[:, list([label]) + list(range(5,final_training_set.shape[1]))].copy()\n",
    "    selected_training_set = selected_training_set[np.isfinite(selected_training_set.iloc[:,1])]\n",
    "    training_set, testing_set = split_train_test(selected_training_set)\n",
    "    model_data = training_set.copy().drop([training_set.columns[0], training_set.columns[1]], axis = 1)\n",
    "    model_labels = training_set.iloc[:,1]\n",
    "    lasso = LinearRegression()\n",
    "    lasso.fit(model_data, model_labels)\n",
    "    model_test_data = testing_set.copy().drop([training_set.columns[0], training_set.columns[1]], axis = 1)\n",
    "    model_test_labels = testing_set.iloc[:,1]\n",
    "    predictions = lasso.predict(model_test_data)\n",
    "    mse = mean_squared_error(model_test_labels, predictions)\n",
    "    rmse = np.sqrt(mse)\n",
    "    print(rmse)\n",
    "    r = scipy.stats.pearsonr(model_test_labels, predictions)\n",
    "    t = scipy.stats.spearmanr(model_test_labels, predictions)\n",
    "    print(\"Pearson: \" + str(r))\n",
    "    print(\"Spearman: \" + str(t))\n",
    "    plt.plot(model_test_labels, predictions, 'bo')\n",
    "    plt.show()"
   ]
  },
  {
   "cell_type": "markdown",
   "metadata": {},
   "source": [
    "### Visualize ML results using Random Forest Regressor"
   ]
  },
  {
   "cell_type": "code",
   "execution_count": 24,
   "metadata": {},
   "outputs": [
    {
     "name": "stdout",
     "output_type": "stream",
     "text": [
      "0.578965046221\n",
      "Pearson: (0.87928571168619285, 1.5421969722481629e-06)\n",
      "Spearman: SpearmanrResult(correlation=0.75025799793601655, pvalue=0.0003352980382239193)\n"
     ]
    },
    {
     "data": {
      "image/png": "[encoded data removed]",
      "text/plain": [
       "<Figure size 432x288 with 1 Axes>"
      ]
     },
     "metadata": {},
     "output_type": "display_data"
    },
    {
     "name": "stdout",
     "output_type": "stream",
     "text": [
      "0.387675057735\n",
      "Pearson: (0.93070344049326603, 2.1480613705384307e-08)\n",
      "Spearman: SpearmanrResult(correlation=0.85758513931888547, pvalue=5.3892599467414981e-06)\n"
     ]
    },
    {
     "data": {
      "image/png": "[encoded data removed]",
      "text/plain": [
       "<Figure size 432x288 with 1 Axes>"
      ]
     },
     "metadata": {},
     "output_type": "display_data"
    },
    {
     "name": "stdout",
     "output_type": "stream",
     "text": [
      "0.437430924139\n",
      "Pearson: (0.96126902936447178, 2.2545206733926566e-10)\n",
      "Spearman: SpearmanrResult(correlation=0.86584107327141369, pvalue=3.4345106049678612e-06)\n"
     ]
    },
    {
     "data": {
      "image/png": "[encoded data removed]",
      "text/plain": [
       "<Figure size 432x288 with 1 Axes>"
      ]
     },
     "metadata": {},
     "output_type": "display_data"
    },
    {
     "name": "stdout",
     "output_type": "stream",
     "text": [
      "0.67305043406\n",
      "Pearson: (0.88290560090732628, 1.2232069609854028e-06)\n",
      "Spearman: SpearmanrResult(correlation=0.88028895768833848, pvalue=1.4473368008429358e-06)\n"
     ]
    },
    {
     "data": {
      "image/png": "[encoded data removed]",
      "text/plain": [
       "<Figure size 432x288 with 1 Axes>"
      ]
     },
     "metadata": {},
     "output_type": "display_data"
    },
    {
     "name": "stdout",
     "output_type": "stream",
     "text": [
      "0.310493682504\n",
      "Pearson: (0.97762728431756662, 2.9425226391740522e-12)\n",
      "Spearman: SpearmanrResult(correlation=0.72755417956656343, pvalue=0.00062150209325193744)\n"
     ]
    },
    {
     "data": {
      "image/png": "[encoded data removed]",
      "text/plain": [
       "<Figure size 432x288 with 1 Axes>"
      ]
     },
     "metadata": {},
     "output_type": "display_data"
    }
   ],
   "source": [
    "for label in labels:\n",
    "    # Remove uneeded labels\n",
    "    selected_training_set = final_training_set.iloc[:, list([label]) + list(range(5,final_training_set.shape[1]))].copy()\n",
    "    selected_training_set = selected_training_set[np.isfinite(selected_training_set.iloc[:,1])]\n",
    "    training_set, testing_set = split_train_test(selected_training_set)\n",
    "    model_data = training_set.copy().drop([training_set.columns[0], training_set.columns[1]], axis = 1)\n",
    "    model_labels = training_set.iloc[:,1]\n",
    "    lasso = RandomForestRegressor(n_estimators=500, max_leaf_nodes=16, n_jobs=-1)\n",
    "    lasso.fit(model_data, model_labels)\n",
    "    model_test_data = testing_set.copy().drop([training_set.columns[0], training_set.columns[1]], axis = 1)\n",
    "    model_test_labels = testing_set.iloc[:,1]\n",
    "    predictions = lasso.predict(model_test_data)\n",
    "    mse = mean_squared_error(model_test_labels, predictions)\n",
    "    rmse = np.sqrt(mse)\n",
    "    print(rmse)\n",
    "    r = scipy.stats.pearsonr(model_test_labels, predictions)\n",
    "    t = scipy.stats.spearmanr(model_test_labels, predictions)\n",
    "    print(\"Pearson: \" + str(r))\n",
    "    print(\"Spearman: \" + str(t))\n",
    "    plt.plot(model_test_labels, predictions, 'bo')\n",
    "    plt.show()\n"
   ]
  }
 ],
 "metadata": {
  "kernelspec": {
   "display_name": "Python 3",
   "language": "python",
   "name": "python3"
  },
  "language_info": {
   "codemirror_mode": {
    "name": "ipython",
    "version": 3
   },
   "file_extension": ".py",
   "mimetype": "text/x-python",
   "name": "python",
   "nbconvert_exporter": "python",
   "pygments_lexer": "ipython3",
   "version": "3.6.0"
  }
 },
 "nbformat": 4,
 "nbformat_minor": 2
}
